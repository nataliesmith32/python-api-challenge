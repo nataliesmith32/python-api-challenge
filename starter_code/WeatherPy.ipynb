{
 "cells": [
  {
   "cell_type": "markdown",
   "metadata": {},
   "source": [
    "# WeatherPy\n",
    "----\n",
    "\n",
    "#### Note\n",
    "* Instructions have been included for each segment. You do not have to follow them exactly, but they are included to help you think through the steps."
   ]
  },
  {
   "cell_type": "code",
   "execution_count": 55,
   "metadata": {
    "scrolled": true
   },
   "outputs": [],
   "source": [
    "# Dependencies and Setup\n",
    "import matplotlib.pyplot as plt\n",
    "import pandas as pd\n",
    "import numpy as np\n",
    "import requests\n",
    "import time\n",
    "from scipy.stats import linregress\n",
    "\n",
    "# Import API key\n",
    "from api_keys import weather_api_key\n",
    "\n",
    "# Incorporated citipy to determine city based on latitude and longitude\n",
    "from citipy import citipy\n",
    "\n",
    "# Output File (CSV)\n",
    "output_data_file = \"output_data/cities.csv\"\n",
    "\n",
    "# Range of latitudes and longitudes\n",
    "lat_range = (-90, 90)\n",
    "lng_range = (-180, 180)"
   ]
  },
  {
   "cell_type": "markdown",
   "metadata": {},
   "source": [
    "## Generate Cities List"
   ]
  },
  {
   "cell_type": "code",
   "execution_count": 56,
   "metadata": {},
   "outputs": [
    {
     "data": {
      "text/plain": [
       "607"
      ]
     },
     "execution_count": 56,
     "metadata": {},
     "output_type": "execute_result"
    }
   ],
   "source": [
    "# List for holding lat_lngs and cities\n",
    "lat_lngs = []\n",
    "cities = []\n",
    "\n",
    "# Create a set of random lat and lng combinations\n",
    "lats = np.random.uniform(lat_range[0], lat_range[1], size=1500)\n",
    "lngs = np.random.uniform(lng_range[0], lng_range[1], size=1500)\n",
    "lat_lngs = zip(lats, lngs)\n",
    "\n",
    "# Identify nearest city for each lat, lng combination\n",
    "for lat_lng in lat_lngs:\n",
    "    city = citipy.nearest_city(lat_lng[0], lat_lng[1]).city_name\n",
    "    \n",
    "    # If the city is unique, then add it to a our cities list\n",
    "    if city not in cities:\n",
    "        cities.append(city)\n",
    "\n",
    "# Print the city count to confirm sufficient count\n",
    "len(cities)"
   ]
  },
  {
   "cell_type": "markdown",
   "metadata": {},
   "source": [
    "### Perform API Calls\n",
    "* Perform a weather check on each city using a series of successive API calls.\n",
    "* Include a print log of each city as it'sbeing processed (with the city number and city name).\n"
   ]
  },
  {
   "cell_type": "code",
   "execution_count": 89,
   "metadata": {},
   "outputs": [
    {
     "name": "stdout",
     "output_type": "stream",
     "text": [
      "Beginning Data Retrieval\n",
      "-----------------------------\n",
      "Processing Record 1 of 607: Hermanus\n",
      "Processing Record 2 of 607: Kavieng\n",
      "Processing Record 3 of 607: Benghazi\n",
      "Processing Record 4 of 607: Gejiu\n",
      "Processing Record 5 of 607: Khatanga\n",
      "Processing Record 6 of 607: Jamestown\n",
      "City not found. Skipping...\n",
      "Processing Record 8 of 607: Bluff\n",
      "Processing Record 9 of 607: Laguna Beach\n",
      "Processing Record 10 of 607: Caiapônia\n",
      "Processing Record 11 of 607: Kapaa\n",
      "Processing Record 12 of 607: Ushuaia\n",
      "Processing Record 13 of 607: Comodoro Rivadavia\n",
      "Processing Record 14 of 607: Jinchang\n",
      "Processing Record 15 of 607: Mahon\n",
      "Processing Record 16 of 607: Avarua\n",
      "Processing Record 17 of 607: Laas\n",
      "City not found. Skipping...\n",
      "Processing Record 19 of 607: Butaritari\n",
      "Processing Record 20 of 607: Alofi\n",
      "Processing Record 21 of 607: Bāsār\n",
      "Processing Record 22 of 607: San Rafael\n",
      "Processing Record 23 of 607: Timizart\n",
      "Processing Record 24 of 607: New Norfolk\n",
      "Processing Record 25 of 607: Itarema\n",
      "Processing Record 26 of 607: Longyearbyen\n",
      "Processing Record 27 of 607: Jacksonville Beach\n",
      "Processing Record 28 of 607: Tuktoyaktuk\n",
      "Processing Record 29 of 607: Hong Kong\n",
      "Processing Record 30 of 607: Saint-Philippe\n",
      "Processing Record 31 of 607: Hithadhoo\n",
      "Processing Record 32 of 607: Baoning\n",
      "City not found. Skipping...\n",
      "Processing Record 34 of 607: Vaitape\n",
      "Processing Record 35 of 607: Honiara\n",
      "Processing Record 36 of 607: Tema\n",
      "Processing Record 37 of 607: Rikitea\n",
      "Processing Record 38 of 607: Cabo San Lucas\n",
      "Processing Record 39 of 607: Taltal\n",
      "Processing Record 40 of 607: Ribeira Grande\n",
      "Processing Record 41 of 607: Yeppoon\n",
      "Processing Record 42 of 607: Atuona\n",
      "Processing Record 43 of 607: Port Elizabeth\n",
      "Processing Record 44 of 607: Ilulissat\n",
      "Processing Record 45 of 607: Salinópolis\n",
      "Processing Record 46 of 607: Oktyabr'skoye\n",
      "Processing Record 47 of 607: Mataura\n",
      "Processing Record 48 of 607: Bethel\n",
      "Processing Record 49 of 607: Vaini\n",
      "Processing Record 50 of 607: Chui\n",
      "Processing Record 51 of 607: Burnie\n",
      "Processing Record 52 of 607: Souillac\n",
      "Processing Record 53 of 607: Nebyliv\n",
      "Processing Record 54 of 607: Kautokeino\n",
      "Processing Record 55 of 607: Port-Cartier\n",
      "Processing Record 56 of 607: Albany\n",
      "Processing Record 57 of 607: Hilo\n",
      "Processing Record 58 of 607: Nanyuki\n",
      "Processing Record 59 of 607: Carnarvon\n",
      "Processing Record 60 of 607: Hauterive\n",
      "Processing Record 61 of 607: Busselton\n",
      "Processing Record 62 of 607: Road Town\n",
      "Processing Record 63 of 607: Cortez\n",
      "Processing Record 64 of 607: Puerto Colombia\n",
      "Processing Record 65 of 607: Mastic Beach\n",
      "Processing Record 66 of 607: Ostrovnoy\n",
      "Processing Record 67 of 607: Dukat\n",
      "Processing Record 68 of 607: Kinsale\n",
      "Processing Record 69 of 607: Isangel\n",
      "Processing Record 70 of 607: Wajima\n",
      "Processing Record 71 of 607: Lebu\n",
      "Processing Record 72 of 607: Punta Arenas\n",
      "Processing Record 73 of 607: Thompson\n",
      "City not found. Skipping...\n",
      "City not found. Skipping...\n",
      "Processing Record 76 of 607: Lingao\n",
      "Processing Record 77 of 607: Port Alfred\n",
      "Processing Record 78 of 607: Kipushi\n",
      "Processing Record 79 of 607: Lagoa\n",
      "Processing Record 80 of 607: Torbay\n",
      "Processing Record 81 of 607: Hobart\n",
      "Processing Record 82 of 607: Port Hedland\n",
      "Processing Record 83 of 607: Sajanan\n",
      "Processing Record 84 of 607: Vágur\n",
      "Processing Record 85 of 607: Quelimane\n",
      "Processing Record 86 of 607: Kargat\n",
      "City not found. Skipping...\n",
      "Processing Record 88 of 607: Soma\n",
      "Processing Record 89 of 607: Cape Town\n",
      "Processing Record 90 of 607: Severo-Kuril'sk\n",
      "Processing Record 91 of 607: Kaeo\n",
      "Processing Record 92 of 607: Hamilton\n",
      "Processing Record 93 of 607: Tasiilaq\n",
      "Processing Record 94 of 607: Madanapalle\n",
      "City not found. Skipping...\n",
      "Processing Record 96 of 607: Mar del Plata\n",
      "Processing Record 97 of 607: Wajir\n",
      "Processing Record 98 of 607: Walvis Bay\n",
      "Processing Record 99 of 607: Bucerías\n",
      "City not found. Skipping...\n",
      "Processing Record 101 of 607: Constantine\n",
      "Processing Record 102 of 607: Kavaratti\n",
      "Processing Record 103 of 607: Tiksi\n",
      "Processing Record 104 of 607: Kailua\n",
      "Processing Record 105 of 607: Barrow\n",
      "Processing Record 106 of 607: Otjimbingwe\n",
      "Processing Record 107 of 607: Quatre Cocos\n",
      "Processing Record 108 of 607: Fortuna\n",
      "City not found. Skipping...\n",
      "Processing Record 110 of 607: Vestmannaeyjar\n",
      "Processing Record 111 of 607: Saint Paul Harbor\n",
      "Processing Record 112 of 607: Stann Creek Town\n",
      "Processing Record 113 of 607: Nanortalik\n",
      "Processing Record 114 of 607: Mahébourg\n",
      "Processing Record 115 of 607: Puerto Ayora\n",
      "City not found. Skipping...\n",
      "Processing Record 117 of 607: Caravelas\n",
      "Processing Record 118 of 607: Provost\n",
      "Processing Record 119 of 607: Mâncio Lima\n",
      "Processing Record 120 of 607: Arrondissement de Saint-Denis\n",
      "Processing Record 121 of 607: Necochea\n",
      "Processing Record 122 of 607: Silver City\n",
      "Processing Record 123 of 607: Narsaq\n",
      "City not found. Skipping...\n",
      "Processing Record 125 of 607: Portland\n",
      "Processing Record 126 of 607: Norman Wells\n",
      "Processing Record 127 of 607: Vila Franca do Campo\n",
      "Processing Record 128 of 607: Yulara\n",
      "Processing Record 129 of 607: Airai\n",
      "Processing Record 130 of 607: Port Macquarie\n",
      "Processing Record 131 of 607: Iqaluit\n",
      "Processing Record 132 of 607: Piney Green\n",
      "Processing Record 133 of 607: Sabang\n",
      "Processing Record 134 of 607: Naze\n",
      "Processing Record 135 of 607: Klaksvík\n",
      "Processing Record 136 of 607: Porto-Novo\n",
      "Processing Record 137 of 607: Kitimat\n",
      "Processing Record 138 of 607: Tautira\n",
      "City not found. Skipping...\n",
      "Processing Record 140 of 607: Guerrero Negro\n",
      "Processing Record 141 of 607: Padang\n",
      "Processing Record 142 of 607: Monte Alegre\n",
      "Processing Record 143 of 607: Maumere\n",
      "Processing Record 144 of 607: Sørland\n",
      "Processing Record 145 of 607: Yaviza\n",
      "Processing Record 146 of 607: Yellowknife\n",
      "Processing Record 147 of 607: Shaunavon\n",
      "City not found. Skipping...\n",
      "Processing Record 149 of 607: Inuvik\n",
      "Processing Record 150 of 607: Magdagachi\n",
      "Processing Record 151 of 607: Plainview\n",
      "Processing Record 152 of 607: Lengshuijiang\n",
      "Processing Record 153 of 607: Kahului\n",
      "Processing Record 154 of 607: Makakilo City\n",
      "Processing Record 155 of 607: Saltpond\n",
      "City not found. Skipping...\n",
      "Processing Record 157 of 607: Kontagora\n",
      "Processing Record 158 of 607: Esperance\n",
      "Processing Record 159 of 607: Touros\n",
      "Processing Record 160 of 607: Khalkhāl\n",
      "Processing Record 161 of 607: Palu\n",
      "Processing Record 162 of 607: Cherlak\n",
      "Processing Record 163 of 607: Cidreira\n",
      "Processing Record 164 of 607: Provideniya\n",
      "Processing Record 165 of 607: Vila\n",
      "Processing Record 166 of 607: Kumul\n",
      "Processing Record 167 of 607: Batagay-Alyta\n",
      "Processing Record 168 of 607: Outram\n",
      "Processing Record 169 of 607: Cherskiy\n",
      "Processing Record 170 of 607: Lichinga\n",
      "Processing Record 171 of 607: Khani\n",
      "Processing Record 172 of 607: Ayr\n",
      "Processing Record 173 of 607: Castro\n",
      "Processing Record 174 of 607: Kaitangata\n",
      "Processing Record 175 of 607: Qaanaaq\n",
      "Processing Record 176 of 607: East London\n",
      "Processing Record 177 of 607: Namie\n",
      "City not found. Skipping...\n",
      "Processing Record 179 of 607: Garbolovo\n",
      "Processing Record 180 of 607: Watertown\n",
      "Processing Record 181 of 607: Verkhoyansk\n",
      "Processing Record 182 of 607: College\n",
      "Processing Record 183 of 607: Dikson\n",
      "Processing Record 184 of 607: Buala\n",
      "Processing Record 185 of 607: Kenora\n",
      "City not found. Skipping...\n",
      "Processing Record 187 of 607: Conceição do Castelo\n",
      "Processing Record 188 of 607: Huazhou\n",
      "Processing Record 189 of 607: Ambon City\n",
      "Processing Record 190 of 607: Yerbogachën\n",
      "Processing Record 191 of 607: Sarakhs\n",
      "Processing Record 192 of 607: Vardø\n",
      "Processing Record 193 of 607: Gorontalo\n",
      "Processing Record 194 of 607: Lowestoft\n",
      "Processing Record 195 of 607: Riverton\n",
      "Processing Record 196 of 607: Bundaberg\n",
      "Processing Record 197 of 607: Morón\n",
      "Processing Record 198 of 607: Gerāsh\n",
      "Processing Record 199 of 607: Beira\n",
      "Processing Record 200 of 607: Te Anau\n",
      "Processing Record 201 of 607: Pangnirtung\n",
      "Processing Record 202 of 607: Arraial do Cabo\n",
      "Processing Record 203 of 607: Upernavik\n",
      "Processing Record 204 of 607: Ponta do Sol\n",
      "Processing Record 205 of 607: Tezu\n",
      "Processing Record 206 of 607: Tiarei\n",
      "City not found. Skipping...\n",
      "City not found. Skipping...\n",
      "Processing Record 209 of 607: Khor\n",
      "Processing Record 210 of 607: Half Moon Bay\n",
      "Processing Record 211 of 607: Meadow Lake\n",
      "City not found. Skipping...\n",
      "Processing Record 213 of 607: Presque Isle\n",
      "Processing Record 214 of 607: Quryq\n",
      "Processing Record 215 of 607: Igrim\n"
     ]
    },
    {
     "name": "stdout",
     "output_type": "stream",
     "text": [
      "Processing Record 216 of 607: Tazovsky\n",
      "Processing Record 217 of 607: Funtua\n",
      "Processing Record 218 of 607: Cascais\n",
      "Processing Record 219 of 607: Tegul'det\n",
      "City not found. Skipping...\n",
      "Processing Record 221 of 607: Río Gallegos\n",
      "City not found. Skipping...\n",
      "Processing Record 223 of 607: Kruisfontein\n",
      "Processing Record 224 of 607: Santoña\n",
      "Processing Record 225 of 607: Marzuq\n",
      "Processing Record 226 of 607: Saskylakh\n",
      "Processing Record 227 of 607: Morehead\n",
      "Processing Record 228 of 607: Longyan\n",
      "Processing Record 229 of 607: Nísia Floresta\n",
      "Processing Record 230 of 607: Nouadhibou\n",
      "Processing Record 231 of 607: Asău\n",
      "Processing Record 232 of 607: Staunton\n",
      "Processing Record 233 of 607: Portsmouth\n",
      "Processing Record 234 of 607: Karachi\n",
      "Processing Record 235 of 607: Arrondissement de Lure\n",
      "Processing Record 236 of 607: Havelian\n",
      "Processing Record 237 of 607: Bredasdorp\n",
      "Processing Record 238 of 607: Baruun-Urt\n",
      "Processing Record 239 of 607: Katsuura\n",
      "Processing Record 240 of 607: Zelenikovo\n",
      "Processing Record 241 of 607: Sur\n",
      "Processing Record 242 of 607: Boda\n",
      "Processing Record 243 of 607: Paita\n",
      "Processing Record 244 of 607: Ekhabi\n",
      "Processing Record 245 of 607: Lewistown\n",
      "Processing Record 246 of 607: Bata\n",
      "Processing Record 247 of 607: Rio Grande\n",
      "Processing Record 248 of 607: Mīzan Teferī\n",
      "Processing Record 249 of 607: Rome\n",
      "Processing Record 250 of 607: Kashgar\n",
      "Processing Record 251 of 607: Fereydūnkenār\n",
      "City not found. Skipping...\n",
      "Processing Record 253 of 607: Turochak\n",
      "Processing Record 254 of 607: Kimbe\n",
      "Processing Record 255 of 607: Haines Junction\n",
      "Processing Record 256 of 607: Grootfontein\n",
      "Processing Record 257 of 607: Namatanai\n",
      "Processing Record 258 of 607: Saint-Augustin\n",
      "Processing Record 259 of 607: Creel\n",
      "Processing Record 260 of 607: Kieta\n",
      "Processing Record 261 of 607: Bījār\n",
      "Processing Record 262 of 607: Cockburn Town\n",
      "Processing Record 263 of 607: Ulladulla\n",
      "Processing Record 264 of 607: Alice Springs\n",
      "Processing Record 265 of 607: Zaozyornoye\n",
      "Processing Record 266 of 607: Grand Gaube\n",
      "Processing Record 267 of 607: Tual\n",
      "Processing Record 268 of 607: Tateyama\n",
      "City not found. Skipping...\n",
      "Processing Record 270 of 607: Acapulco de Juárez\n",
      "Processing Record 271 of 607: Poum\n",
      "Processing Record 272 of 607: Miles City\n",
      "Processing Record 273 of 607: Grindavik\n",
      "Processing Record 274 of 607: Brae\n",
      "Processing Record 275 of 607: Jiwani\n",
      "Processing Record 276 of 607: Zhongshu\n",
      "Processing Record 277 of 607: Westport\n",
      "Processing Record 278 of 607: Araouane\n",
      "Processing Record 279 of 607: Magadan\n",
      "Processing Record 280 of 607: Pevek\n",
      "Processing Record 281 of 607: Dibulla\n",
      "Processing Record 282 of 607: Beidao\n",
      "Processing Record 283 of 607: Upington\n",
      "Processing Record 284 of 607: Ciudad del Carmen\n",
      "Processing Record 285 of 607: Bandarbeyla\n",
      "Processing Record 286 of 607: Aklavik\n",
      "Processing Record 287 of 607: Chhātāpur\n",
      "Processing Record 288 of 607: Auch\n",
      "Processing Record 289 of 607: Tūkrah\n",
      "City not found. Skipping...\n",
      "Processing Record 291 of 607: Galesong\n",
      "City not found. Skipping...\n",
      "Processing Record 293 of 607: Nagato\n",
      "Processing Record 294 of 607: Gigmoto\n",
      "Processing Record 295 of 607: Ndélé\n",
      "City not found. Skipping...\n",
      "Processing Record 297 of 607: Teya\n",
      "Processing Record 298 of 607: Yar-Sale\n",
      "Processing Record 299 of 607: Prince Rupert\n",
      "Processing Record 300 of 607: Chunhuhub\n",
      "Processing Record 301 of 607: Pacific Grove\n",
      "Processing Record 302 of 607: Tessalit\n",
      "Processing Record 303 of 607: Avera\n",
      "Processing Record 304 of 607: Seoul\n",
      "Processing Record 305 of 607: Verkhnyaya Inta\n",
      "Processing Record 306 of 607: Hobyo\n",
      "Processing Record 307 of 607: Olafsvik\n",
      "City not found. Skipping...\n",
      "Processing Record 309 of 607: Jacobabad\n",
      "City not found. Skipping...\n",
      "Processing Record 311 of 607: Maputo\n",
      "Processing Record 312 of 607: Kyren\n",
      "Processing Record 313 of 607: Zhangye\n",
      "City not found. Skipping...\n",
      "Processing Record 315 of 607: Khromtau\n",
      "Processing Record 316 of 607: George Town\n",
      "City not found. Skipping...\n",
      "Processing Record 318 of 607: Oodweyne\n",
      "Processing Record 319 of 607: Tuatapere\n",
      "Processing Record 320 of 607: Richards Bay\n",
      "Processing Record 321 of 607: São Filipe\n",
      "Processing Record 322 of 607: Kuril'sk\n",
      "City not found. Skipping...\n",
      "Processing Record 324 of 607: Ancud\n",
      "Processing Record 325 of 607: Arman'\n",
      "Processing Record 326 of 607: Khovd\n",
      "Processing Record 327 of 607: Bahía de Caráquez\n",
      "Processing Record 328 of 607: Coyhaique\n",
      "Processing Record 329 of 607: Mnogovershinnyy\n",
      "Processing Record 330 of 607: Leh\n",
      "Processing Record 331 of 607: Constitución\n",
      "Processing Record 332 of 607: Abu Kamal\n",
      "Processing Record 333 of 607: Talnakh\n",
      "Processing Record 334 of 607: Faanui\n",
      "Processing Record 335 of 607: Bambous Virieux\n",
      "Processing Record 336 of 607: Saint George\n",
      "Processing Record 337 of 607: Diego de Almagro\n",
      "Processing Record 338 of 607: Whitehorse\n",
      "Processing Record 339 of 607: Dhidhdhoo\n",
      "Processing Record 340 of 607: Havre-St-Pierre\n",
      "Processing Record 341 of 607: Nikolskoye\n",
      "Processing Record 342 of 607: Miraflores\n",
      "Processing Record 343 of 607: Hella\n",
      "Processing Record 344 of 607: Nabire\n",
      "Processing Record 345 of 607: Ormara\n",
      "Processing Record 346 of 607: Sisimiut\n",
      "Processing Record 347 of 607: Saint Anthony\n",
      "Processing Record 348 of 607: Cayenne\n",
      "Processing Record 349 of 607: Sarai\n",
      "Processing Record 350 of 607: Dalbandin\n",
      "Processing Record 351 of 607: Mt. Pleasant\n",
      "Processing Record 352 of 607: Mogadishu\n",
      "Processing Record 353 of 607: Noumea\n",
      "City not found. Skipping...\n",
      "Processing Record 355 of 607: Broken Hill\n",
      "Processing Record 356 of 607: San Cristobal\n",
      "Processing Record 357 of 607: Aksu\n",
      "Processing Record 358 of 607: Masallātah\n",
      "Processing Record 359 of 607: San Miguel de Cozumel\n",
      "Processing Record 360 of 607: Manado\n",
      "Processing Record 361 of 607: Cuamba\n",
      "Processing Record 362 of 607: Shimoda\n",
      "Processing Record 363 of 607: Bereda\n",
      "Processing Record 364 of 607: Navsari\n",
      "Processing Record 365 of 607: Mount Isa\n",
      "Processing Record 366 of 607: Hirara\n",
      "Processing Record 367 of 607: Hasaki\n",
      "Processing Record 368 of 607: Vostok\n",
      "Processing Record 369 of 607: Tallahassee\n",
      "City not found. Skipping...\n",
      "Processing Record 371 of 607: Dubovka\n",
      "Processing Record 372 of 607: Koslan\n",
      "Processing Record 373 of 607: Velizh\n",
      "Processing Record 374 of 607: Hualmay\n",
      "Processing Record 375 of 607: Muisne\n",
      "Processing Record 376 of 607: Santa Cruz de la Sierra\n",
      "Processing Record 377 of 607: Picota\n",
      "Processing Record 378 of 607: Novoselitskoye\n",
      "Processing Record 379 of 607: Petropavlovka\n",
      "Processing Record 380 of 607: Potamiá\n",
      "Processing Record 381 of 607: Flinders\n",
      "Processing Record 382 of 607: Clyde River\n",
      "Processing Record 383 of 607: Huainan\n",
      "Processing Record 384 of 607: Catumbela\n",
      "Processing Record 385 of 607: Rincon\n",
      "Processing Record 386 of 607: Kharp\n",
      "Processing Record 387 of 607: Kisangani\n",
      "Processing Record 388 of 607: Gushikawa\n",
      "Processing Record 389 of 607: Leningradskiy\n",
      "Processing Record 390 of 607: Lompoc\n",
      "Processing Record 391 of 607: Nhulunbuy\n",
      "Processing Record 392 of 607: Jos\n",
      "Processing Record 393 of 607: Mangalia\n",
      "Processing Record 394 of 607: Urengoy\n",
      "Processing Record 395 of 607: Los Llanos de Aridane\n",
      "Processing Record 396 of 607: Ketchikan\n",
      "Processing Record 397 of 607: Yangi Marg`ilon\n",
      "Processing Record 398 of 607: Mossamedes\n",
      "Processing Record 399 of 607: Yinchuan\n",
      "City not found. Skipping...\n",
      "Processing Record 401 of 607: Pangody\n",
      "Processing Record 402 of 607: Dingle\n",
      "Processing Record 403 of 607: Eston\n",
      "Processing Record 404 of 607: San Fernando\n",
      "Processing Record 405 of 607: Tevaitoa\n",
      "Processing Record 406 of 607: Hvide Sande\n",
      "Processing Record 407 of 607: Mackay\n",
      "City not found. Skipping...\n",
      "Processing Record 409 of 607: Abaza\n",
      "Processing Record 410 of 607: Port Hardy\n",
      "Processing Record 411 of 607: The Valley\n",
      "Processing Record 412 of 607: Roald\n",
      "Processing Record 413 of 607: Talara\n",
      "City not found. Skipping...\n",
      "Processing Record 415 of 607: Boyolangu\n",
      "Processing Record 416 of 607: Matara\n",
      "Processing Record 417 of 607: Salalah\n",
      "Processing Record 418 of 607: Grenfell\n",
      "City not found. Skipping...\n",
      "Processing Record 420 of 607: Kilindoni\n",
      "Processing Record 421 of 607: Caramay\n",
      "Processing Record 422 of 607: Pisco\n",
      "Processing Record 423 of 607: Bonfim\n",
      "City not found. Skipping...\n",
      "Processing Record 425 of 607: Segezha\n",
      "Processing Record 426 of 607: Lucknow\n",
      "Processing Record 427 of 607: Masvingo\n",
      "Processing Record 428 of 607: Gizo Government Station\n",
      "Processing Record 429 of 607: Muros\n"
     ]
    },
    {
     "name": "stdout",
     "output_type": "stream",
     "text": [
      "Processing Record 430 of 607: Yaan\n",
      "Processing Record 431 of 607: Rovaniemi\n",
      "Processing Record 432 of 607: Jaraguá do Sul\n",
      "Processing Record 433 of 607: Neiafu\n",
      "Processing Record 434 of 607: Marsaxlokk\n",
      "City not found. Skipping...\n",
      "City not found. Skipping...\n",
      "Processing Record 437 of 607: Shadrinsk\n",
      "Processing Record 438 of 607: Mount Gambier\n",
      "Processing Record 439 of 607: Aykhal\n",
      "Processing Record 440 of 607: Bengkulu\n",
      "Processing Record 441 of 607: Usinsk\n",
      "Processing Record 442 of 607: Addanki\n",
      "Processing Record 443 of 607: Agüimes\n",
      "Processing Record 444 of 607: Edd\n",
      "City not found. Skipping...\n",
      "Processing Record 446 of 607: Chu\n",
      "Processing Record 447 of 607: Catabola\n",
      "Processing Record 448 of 607: Catalão\n",
      "Processing Record 449 of 607: Bubaque\n",
      "Processing Record 450 of 607: Sangmélima\n",
      "Processing Record 451 of 607: Deputatsky\n",
      "Processing Record 452 of 607: Bom Jardim\n",
      "Processing Record 453 of 607: Raja\n",
      "Processing Record 454 of 607: São Fidélis\n",
      "Processing Record 455 of 607: Aborlan\n",
      "Processing Record 456 of 607: Laguna\n",
      "Processing Record 457 of 607: Lüderitz\n",
      "Processing Record 458 of 607: Geraldton\n",
      "Processing Record 459 of 607: Omboué\n",
      "Processing Record 460 of 607: Tiznit Province\n",
      "Processing Record 461 of 607: Atar\n",
      "City not found. Skipping...\n",
      "Processing Record 463 of 607: Carauari\n",
      "Processing Record 464 of 607: Bima\n",
      "Processing Record 465 of 607: Evensk\n",
      "Processing Record 466 of 607: Manyana\n",
      "Processing Record 467 of 607: Kasama\n",
      "Processing Record 468 of 607: Plettenberg Bay\n",
      "Processing Record 469 of 607: Lamu\n",
      "Processing Record 470 of 607: Kangāvar\n",
      "Processing Record 471 of 607: Akdepe\n",
      "Processing Record 472 of 607: Sena Madureira\n",
      "Processing Record 473 of 607: Anlu\n",
      "Processing Record 474 of 607: Lodja\n",
      "Processing Record 475 of 607: Jutaí\n",
      "Processing Record 476 of 607: Marsh Harbour\n",
      "Processing Record 477 of 607: Lieksa\n",
      "Processing Record 478 of 607: Krylovskaya\n",
      "Processing Record 479 of 607: Paraíso\n",
      "Processing Record 480 of 607: Urucurituba\n",
      "Processing Record 481 of 607: Aygehovit\n",
      "Processing Record 482 of 607: Nāgar Karnūl\n",
      "Processing Record 483 of 607: Soyo\n",
      "Processing Record 484 of 607: Kungurtug\n",
      "Processing Record 485 of 607: Paamiut\n",
      "Processing Record 486 of 607: Valparaíso\n",
      "City not found. Skipping...\n",
      "Processing Record 488 of 607: Hay River\n",
      "Processing Record 489 of 607: Paola\n",
      "Processing Record 490 of 607: Homer\n",
      "City not found. Skipping...\n",
      "Processing Record 492 of 607: Bon Air\n",
      "Processing Record 493 of 607: Inírida\n",
      "Processing Record 494 of 607: Chokurdakh\n",
      "Processing Record 495 of 607: Callaway\n",
      "Processing Record 496 of 607: Bedelē\n",
      "Processing Record 497 of 607: Aldan\n",
      "Processing Record 498 of 607: Lorengau\n",
      "Processing Record 499 of 607: Carballo\n",
      "Processing Record 500 of 607: Kamenka\n",
      "Processing Record 501 of 607: Predivinsk\n",
      "Processing Record 502 of 607: Codrington\n",
      "Processing Record 503 of 607: Cervo\n",
      "City not found. Skipping...\n",
      "City not found. Skipping...\n",
      "Processing Record 506 of 607: São Félix do Xingu\n",
      "Processing Record 507 of 607: Sabla\n",
      "Processing Record 508 of 607: Faya\n",
      "Processing Record 509 of 607: Valdez\n",
      "Processing Record 510 of 607: Saint-Joseph\n",
      "City not found. Skipping...\n",
      "Processing Record 512 of 607: Santa Cruz\n",
      "Processing Record 513 of 607: Wailuku\n",
      "Processing Record 514 of 607: Dunda\n",
      "Processing Record 515 of 607: Zhigalovo\n",
      "Processing Record 516 of 607: Wanaka\n",
      "Processing Record 517 of 607: Buraidah\n",
      "Processing Record 518 of 607: Hambantota\n",
      "Processing Record 519 of 607: Manutuke\n",
      "Processing Record 520 of 607: Puquio\n",
      "Processing Record 521 of 607: Broome\n",
      "Processing Record 522 of 607: Palana\n",
      "Processing Record 523 of 607: Abu Samrah\n",
      "City not found. Skipping...\n",
      "Processing Record 525 of 607: Tvøroyri\n",
      "City not found. Skipping...\n",
      "Processing Record 527 of 607: Qasigiannguit\n",
      "Processing Record 528 of 607: Mayo\n",
      "Processing Record 529 of 607: Pueblo\n",
      "Processing Record 530 of 607: La Ronge\n",
      "Processing Record 531 of 607: Korla\n",
      "Processing Record 532 of 607: St. George's\n",
      "Processing Record 533 of 607: Kotel'nich\n",
      "City not found. Skipping...\n",
      "Processing Record 535 of 607: Golub-Dobrzyń\n",
      "Processing Record 536 of 607: Mana\n",
      "Processing Record 537 of 607: Taywarah\n",
      "Processing Record 538 of 607: Katwijk\n",
      "Processing Record 539 of 607: Honningsvåg\n",
      "Processing Record 540 of 607: Fonte Boa\n",
      "Processing Record 541 of 607: Iquique\n",
      "Processing Record 542 of 607: Lavrentiya\n",
      "Processing Record 543 of 607: Chapais\n",
      "City not found. Skipping...\n",
      "Processing Record 545 of 607: Loukhi\n",
      "Processing Record 546 of 607: Shebunino\n",
      "Processing Record 547 of 607: Baykalovo\n",
      "City not found. Skipping...\n",
      "Processing Record 549 of 607: Moose Factory\n",
      "Processing Record 550 of 607: San Quintín\n",
      "Processing Record 551 of 607: Bulgan\n",
      "Processing Record 552 of 607: Villarrica\n",
      "Processing Record 553 of 607: Kalianget\n",
      "Processing Record 554 of 607: Forsytheganj\n",
      "Processing Record 555 of 607: Shalinskoye\n",
      "Processing Record 556 of 607: Chamonix\n",
      "Processing Record 557 of 607: Sovetskiy\n",
      "Processing Record 558 of 607: Saldanha\n",
      "Processing Record 559 of 607: Staryy Nadym\n",
      "City not found. Skipping...\n",
      "Processing Record 561 of 607: Egvekinot\n",
      "Processing Record 562 of 607: Kananga\n",
      "Processing Record 563 of 607: Launceston\n",
      "Processing Record 564 of 607: Hīt\n",
      "Processing Record 565 of 607: Ginir\n",
      "Processing Record 566 of 607: Dicabisagan\n",
      "Processing Record 567 of 607: Okhotsk\n",
      "Processing Record 568 of 607: Boysun\n",
      "Processing Record 569 of 607: Manokwari\n",
      "Processing Record 570 of 607: Maragogi\n",
      "Processing Record 571 of 607: Luena\n",
      "Processing Record 572 of 607: San Patricio\n",
      "Processing Record 573 of 607: Pedasí\n",
      "Processing Record 574 of 607: Mormugao\n",
      "Processing Record 575 of 607: Majene\n",
      "Processing Record 576 of 607: Tataouine\n",
      "Processing Record 577 of 607: Fengzhen\n",
      "Processing Record 578 of 607: Waipawa\n",
      "Processing Record 579 of 607: Tuy Hoa\n",
      "Processing Record 580 of 607: Cartagena\n",
      "Processing Record 581 of 607: Yueyang\n",
      "Processing Record 582 of 607: Coquimbo\n",
      "Processing Record 583 of 607: Ţahţā\n",
      "Processing Record 584 of 607: Mattawa\n",
      "Processing Record 585 of 607: Shwebo\n",
      "Processing Record 586 of 607: Berlin\n",
      "Processing Record 587 of 607: Henties Bay\n",
      "Processing Record 588 of 607: Muscat\n",
      "Processing Record 589 of 607: Petrykivka\n",
      "City not found. Skipping...\n",
      "Processing Record 591 of 607: Pochutla\n",
      "Processing Record 592 of 607: Montevideo\n",
      "Processing Record 593 of 607: Zhigansk\n",
      "Processing Record 594 of 607: Lingsugūr\n",
      "Processing Record 595 of 607: Disna\n",
      "Processing Record 596 of 607: Kidal\n",
      "City not found. Skipping...\n",
      "Processing Record 598 of 607: Pokhara\n",
      "Processing Record 599 of 607: Trairi\n",
      "Processing Record 600 of 607: Amboasary\n",
      "Processing Record 601 of 607: Buckeye\n",
      "Processing Record 602 of 607: Jérémie\n",
      "Processing Record 603 of 607: Christchurch\n",
      "Processing Record 604 of 607: Suntar\n",
      "Processing Record 605 of 607: Russell\n",
      "Processing Record 606 of 607: Palmer\n",
      "Processing Record 607 of 607: Samarai\n",
      "-----------------------------\n",
      "Data Retrieval Complete\n",
      "-----------------------------\n"
     ]
    }
   ],
   "source": [
    "# empty arrays to be appended\n",
    "cityid = []\n",
    "city = []\n",
    "cloudiness = []\n",
    "country = []\n",
    "date = []\n",
    "humidity = []\n",
    "lat = []\n",
    "lng = []\n",
    "max_temp = []\n",
    "wind_speed = []\n",
    "\n",
    "# base url\n",
    "url = \"http://api.openweathermap.org/data/2.5/weather?\"\n",
    "units = \"imperial\"\n",
    "\n",
    "# start of the print\n",
    "print(\"Beginning Data Retrieval\")\n",
    "print(\"-----------------------------\")\n",
    "\n",
    "# start counter\n",
    "count = 0\n",
    "\n",
    "for citi in cities:\n",
    "    # Build query URL\n",
    "    query_url = f\"{url}appid={weather_api_key}&q={citi}&units={units}\"\n",
    "    \n",
    "    # Get weather data\n",
    "    weather_json = requests.get(query_url).json()\n",
    "    \n",
    "    # increase count\n",
    "    count += 1\n",
    "\n",
    "    try:\n",
    "        #print city name\n",
    "        name = weather_json[\"name\"]\n",
    "        print(f\"Processing Record {count} of {len(cities)}: {name}\")\n",
    "        \n",
    "        #append arrays\n",
    "        cityid.append(int(weather_json['id']))\n",
    "        city.append(weather_json[\"name\"])\n",
    "        cloudiness.append(weather_json[\"clouds\"][\"all\"])\n",
    "        country.append(weather_json[\"sys\"][\"country\"])\n",
    "        date.append(weather_json[\"dt\"])\n",
    "        humidity.append(weather_json[\"main\"][\"humidity\"])\n",
    "        max_temp.append(weather_json[\"main\"][\"temp_max\"])\n",
    "        wind_speed.append(weather_json[\"wind\"][\"speed\"])\n",
    "        lat.append(weather_json[\"coord\"][\"lat\"])\n",
    "        lng.append(weather_json[\"coord\"][\"lon\"])\n",
    "        \n",
    "    except:\n",
    "        print(\"City not found. Skipping...\")\n",
    "    \n",
    "print(\"-----------------------------\")\n",
    "print(\"Data Retrieval Complete\")\n",
    "print(\"-----------------------------\")"
   ]
  },
  {
   "cell_type": "markdown",
   "metadata": {},
   "source": [
    "### Convert Raw Data to DataFrame\n",
    "* Export the city data into a .csv.\n",
    "* Display the DataFrame"
   ]
  },
  {
   "cell_type": "code",
   "execution_count": 95,
   "metadata": {},
   "outputs": [],
   "source": [
    "# read csv file\n",
    "weather_df = pd.DataFrame({\n",
    "    \"City_ID\": cityid,\n",
    "    \"City\": city,\n",
    "    \"Country\": country,\n",
    "    \"Date\": date,\n",
    "    \"Latitude\": lat,\n",
    "    \"Longitude\": lng,\n",
    "    \"Cloudiness\": cloudiness,\n",
    "    \"Humidity\": humidity,\n",
    "    \"Max Temperature\": max_temp,\n",
    "    \"Wind Speed\": wind_speed\n",
    "})"
   ]
  },
  {
   "cell_type": "code",
   "execution_count": 97,
   "metadata": {},
   "outputs": [],
   "source": [
    "#drop NaN values and convert ID for linear regression\n",
    "weather_df.dropna()\n",
    "weather_data = weather_df.reset_index(drop=True)\n",
    "weather_data['City_ID'] = weather_data['City_ID'].astype(int)"
   ]
  },
  {
   "cell_type": "code",
   "execution_count": 98,
   "metadata": {
    "scrolled": true
   },
   "outputs": [
    {
     "data": {
      "text/html": [
       "<div>\n",
       "<style scoped>\n",
       "    .dataframe tbody tr th:only-of-type {\n",
       "        vertical-align: middle;\n",
       "    }\n",
       "\n",
       "    .dataframe tbody tr th {\n",
       "        vertical-align: top;\n",
       "    }\n",
       "\n",
       "    .dataframe thead th {\n",
       "        text-align: right;\n",
       "    }\n",
       "</style>\n",
       "<table border=\"1\" class=\"dataframe\">\n",
       "  <thead>\n",
       "    <tr style=\"text-align: right;\">\n",
       "      <th></th>\n",
       "      <th>City_ID</th>\n",
       "      <th>City</th>\n",
       "      <th>Country</th>\n",
       "      <th>Date</th>\n",
       "      <th>Latitude</th>\n",
       "      <th>Longitude</th>\n",
       "      <th>Cloudiness</th>\n",
       "      <th>Humidity</th>\n",
       "      <th>Max Temperature</th>\n",
       "      <th>Wind Speed</th>\n",
       "    </tr>\n",
       "  </thead>\n",
       "  <tbody>\n",
       "    <tr>\n",
       "      <th>0</th>\n",
       "      <td>3366880</td>\n",
       "      <td>Hermanus</td>\n",
       "      <td>ZA</td>\n",
       "      <td>1612983804</td>\n",
       "      <td>-34.4187</td>\n",
       "      <td>19.2345</td>\n",
       "      <td>6</td>\n",
       "      <td>79</td>\n",
       "      <td>70.00</td>\n",
       "      <td>4.00</td>\n",
       "    </tr>\n",
       "    <tr>\n",
       "      <th>1</th>\n",
       "      <td>2094342</td>\n",
       "      <td>Kavieng</td>\n",
       "      <td>PG</td>\n",
       "      <td>1612983804</td>\n",
       "      <td>-2.5744</td>\n",
       "      <td>150.7967</td>\n",
       "      <td>96</td>\n",
       "      <td>78</td>\n",
       "      <td>81.45</td>\n",
       "      <td>7.58</td>\n",
       "    </tr>\n",
       "    <tr>\n",
       "      <th>2</th>\n",
       "      <td>88319</td>\n",
       "      <td>Benghazi</td>\n",
       "      <td>LY</td>\n",
       "      <td>1612983804</td>\n",
       "      <td>32.1167</td>\n",
       "      <td>20.0667</td>\n",
       "      <td>0</td>\n",
       "      <td>46</td>\n",
       "      <td>64.47</td>\n",
       "      <td>9.44</td>\n",
       "    </tr>\n",
       "    <tr>\n",
       "      <th>3</th>\n",
       "      <td>1810240</td>\n",
       "      <td>Gejiu</td>\n",
       "      <td>CN</td>\n",
       "      <td>1612983805</td>\n",
       "      <td>23.3060</td>\n",
       "      <td>103.1635</td>\n",
       "      <td>0</td>\n",
       "      <td>100</td>\n",
       "      <td>38.89</td>\n",
       "      <td>1.32</td>\n",
       "    </tr>\n",
       "    <tr>\n",
       "      <th>4</th>\n",
       "      <td>2022572</td>\n",
       "      <td>Khatanga</td>\n",
       "      <td>RU</td>\n",
       "      <td>1612983805</td>\n",
       "      <td>71.9667</td>\n",
       "      <td>102.5000</td>\n",
       "      <td>85</td>\n",
       "      <td>84</td>\n",
       "      <td>-16.60</td>\n",
       "      <td>5.84</td>\n",
       "    </tr>\n",
       "  </tbody>\n",
       "</table>\n",
       "</div>"
      ],
      "text/plain": [
       "   City_ID      City Country        Date  Latitude  Longitude  Cloudiness  \\\n",
       "0  3366880  Hermanus      ZA  1612983804  -34.4187    19.2345           6   \n",
       "1  2094342   Kavieng      PG  1612983804   -2.5744   150.7967          96   \n",
       "2    88319  Benghazi      LY  1612983804   32.1167    20.0667           0   \n",
       "3  1810240     Gejiu      CN  1612983805   23.3060   103.1635           0   \n",
       "4  2022572  Khatanga      RU  1612983805   71.9667   102.5000          85   \n",
       "\n",
       "   Humidity  Max Temperature  Wind Speed  \n",
       "0        79            70.00        4.00  \n",
       "1        78            81.45        7.58  \n",
       "2        46            64.47        9.44  \n",
       "3       100            38.89        1.32  \n",
       "4        84           -16.60        5.84  "
      ]
     },
     "execution_count": 98,
     "metadata": {},
     "output_type": "execute_result"
    }
   ],
   "source": [
    "#display the table\n",
    "weather_data.head()"
   ]
  },
  {
   "cell_type": "code",
   "execution_count": 99,
   "metadata": {},
   "outputs": [],
   "source": [
    "#convert table to csv\n",
    "weather_data.to_csv(\"../output_data/citiestable.csv\", encoding='utf-8', index=False)"
   ]
  },
  {
   "cell_type": "markdown",
   "metadata": {},
   "source": [
    "## Inspect the data and remove the cities where the humidity > 100%.\n",
    "----\n",
    "Skip this step if there are no cities that have humidity > 100%. "
   ]
  },
  {
   "cell_type": "code",
   "execution_count": 100,
   "metadata": {},
   "outputs": [
    {
     "data": {
      "text/html": [
       "<div>\n",
       "<style scoped>\n",
       "    .dataframe tbody tr th:only-of-type {\n",
       "        vertical-align: middle;\n",
       "    }\n",
       "\n",
       "    .dataframe tbody tr th {\n",
       "        vertical-align: top;\n",
       "    }\n",
       "\n",
       "    .dataframe thead th {\n",
       "        text-align: right;\n",
       "    }\n",
       "</style>\n",
       "<table border=\"1\" class=\"dataframe\">\n",
       "  <thead>\n",
       "    <tr style=\"text-align: right;\">\n",
       "      <th></th>\n",
       "      <th>City_ID</th>\n",
       "      <th>City</th>\n",
       "      <th>Country</th>\n",
       "      <th>Date</th>\n",
       "      <th>Latitude</th>\n",
       "      <th>Longitude</th>\n",
       "      <th>Cloudiness</th>\n",
       "      <th>Humidity</th>\n",
       "      <th>Max Temperature</th>\n",
       "      <th>Wind Speed</th>\n",
       "    </tr>\n",
       "  </thead>\n",
       "  <tbody>\n",
       "  </tbody>\n",
       "</table>\n",
       "</div>"
      ],
      "text/plain": [
       "Empty DataFrame\n",
       "Columns: [City_ID, City, Country, Date, Latitude, Longitude, Cloudiness, Humidity, Max Temperature, Wind Speed]\n",
       "Index: []"
      ]
     },
     "execution_count": 100,
     "metadata": {},
     "output_type": "execute_result"
    }
   ],
   "source": [
    "hot_places = weather_data.loc[weather_df['Humidity'] > 100]\n",
    "hot_places"
   ]
  },
  {
   "cell_type": "code",
   "execution_count": 101,
   "metadata": {},
   "outputs": [],
   "source": [
    "#  Get the indices of cities that have humidity over 100%.\n",
    "#N/A"
   ]
  },
  {
   "cell_type": "code",
   "execution_count": 106,
   "metadata": {},
   "outputs": [],
   "source": [
    "# to convert timestamp to regular date\n",
    "from datetime import datetime\n",
    "\n",
    "converted_date = datetime.fromtimestamp(weather_json['dt']).strftime('%m/%d/%y')\n",
    "    \n",
    "\n",
    "# Make a new DataFrame equal to the city data to drop all humidity outliers by index.\n",
    "# Passing \"inplace=False\" will make a copy of the city_data DataFrame, which we call \"clean_city_data\".\n",
    "clean_city_data = pd.DataFrame({\n",
    "    \"City\": city,\n",
    "    \"Latitude\": lat,\n",
    "    \"Longitude\": lng,\n",
    "    \"Max Temperature\": max_temp,\n",
    "    \"Humidity\": humidity,\n",
    "    \"Cloudiness\": cloudiness,\n",
    "    \"Wind Speed\": wind_speed,\n",
    "    \"Country\": country,\n",
    "    \"Date\": converted_date,\n",
    "})"
   ]
  },
  {
   "cell_type": "code",
   "execution_count": 107,
   "metadata": {},
   "outputs": [
    {
     "data": {
      "text/html": [
       "<div>\n",
       "<style scoped>\n",
       "    .dataframe tbody tr th:only-of-type {\n",
       "        vertical-align: middle;\n",
       "    }\n",
       "\n",
       "    .dataframe tbody tr th {\n",
       "        vertical-align: top;\n",
       "    }\n",
       "\n",
       "    .dataframe thead th {\n",
       "        text-align: right;\n",
       "    }\n",
       "</style>\n",
       "<table border=\"1\" class=\"dataframe\">\n",
       "  <thead>\n",
       "    <tr style=\"text-align: right;\">\n",
       "      <th></th>\n",
       "      <th>City</th>\n",
       "      <th>Latitude</th>\n",
       "      <th>Longitude</th>\n",
       "      <th>Max Temperature</th>\n",
       "      <th>Humidity</th>\n",
       "      <th>Cloudiness</th>\n",
       "      <th>Wind Speed</th>\n",
       "      <th>Country</th>\n",
       "      <th>Date</th>\n",
       "    </tr>\n",
       "  </thead>\n",
       "  <tbody>\n",
       "    <tr>\n",
       "      <th>0</th>\n",
       "      <td>Hermanus</td>\n",
       "      <td>-34.4187</td>\n",
       "      <td>19.2345</td>\n",
       "      <td>70.00</td>\n",
       "      <td>79</td>\n",
       "      <td>6</td>\n",
       "      <td>4.00</td>\n",
       "      <td>ZA</td>\n",
       "      <td>02/10/21</td>\n",
       "    </tr>\n",
       "    <tr>\n",
       "      <th>1</th>\n",
       "      <td>Kavieng</td>\n",
       "      <td>-2.5744</td>\n",
       "      <td>150.7967</td>\n",
       "      <td>81.45</td>\n",
       "      <td>78</td>\n",
       "      <td>96</td>\n",
       "      <td>7.58</td>\n",
       "      <td>PG</td>\n",
       "      <td>02/10/21</td>\n",
       "    </tr>\n",
       "    <tr>\n",
       "      <th>2</th>\n",
       "      <td>Benghazi</td>\n",
       "      <td>32.1167</td>\n",
       "      <td>20.0667</td>\n",
       "      <td>64.47</td>\n",
       "      <td>46</td>\n",
       "      <td>0</td>\n",
       "      <td>9.44</td>\n",
       "      <td>LY</td>\n",
       "      <td>02/10/21</td>\n",
       "    </tr>\n",
       "    <tr>\n",
       "      <th>3</th>\n",
       "      <td>Gejiu</td>\n",
       "      <td>23.3060</td>\n",
       "      <td>103.1635</td>\n",
       "      <td>38.89</td>\n",
       "      <td>100</td>\n",
       "      <td>0</td>\n",
       "      <td>1.32</td>\n",
       "      <td>CN</td>\n",
       "      <td>02/10/21</td>\n",
       "    </tr>\n",
       "    <tr>\n",
       "      <th>4</th>\n",
       "      <td>Khatanga</td>\n",
       "      <td>71.9667</td>\n",
       "      <td>102.5000</td>\n",
       "      <td>-16.60</td>\n",
       "      <td>84</td>\n",
       "      <td>85</td>\n",
       "      <td>5.84</td>\n",
       "      <td>RU</td>\n",
       "      <td>02/10/21</td>\n",
       "    </tr>\n",
       "  </tbody>\n",
       "</table>\n",
       "</div>"
      ],
      "text/plain": [
       "       City  Latitude  Longitude  Max Temperature  Humidity  Cloudiness  \\\n",
       "0  Hermanus  -34.4187    19.2345            70.00        79           6   \n",
       "1   Kavieng   -2.5744   150.7967            81.45        78          96   \n",
       "2  Benghazi   32.1167    20.0667            64.47        46           0   \n",
       "3     Gejiu   23.3060   103.1635            38.89       100           0   \n",
       "4  Khatanga   71.9667   102.5000           -16.60        84          85   \n",
       "\n",
       "   Wind Speed Country      Date  \n",
       "0        4.00      ZA  02/10/21  \n",
       "1        7.58      PG  02/10/21  \n",
       "2        9.44      LY  02/10/21  \n",
       "3        1.32      CN  02/10/21  \n",
       "4        5.84      RU  02/10/21  "
      ]
     },
     "execution_count": 107,
     "metadata": {},
     "output_type": "execute_result"
    }
   ],
   "source": [
    "clean_city_data.head()"
   ]
  },
  {
   "cell_type": "markdown",
   "metadata": {},
   "source": [
    "## Plotting the Data\n",
    "* Use proper labeling of the plots using plot titles (including date of analysis) and axes labels.\n",
    "* Save the plotted figures as .pngs."
   ]
  },
  {
   "cell_type": "markdown",
   "metadata": {},
   "source": [
    "## Latitude vs. Temperature Plot"
   ]
  },
  {
   "cell_type": "code",
   "execution_count": 108,
   "metadata": {},
   "outputs": [
    {
     "data": {
      "image/png": "[encoded data removed]",
      "text/plain": [
       "<Figure size 432x288 with 1 Axes>"
      ]
     },
     "metadata": {
      "needs_background": "light"
     },
     "output_type": "display_data"
    }
   ],
   "source": [
    "# create scatter plot\n",
    "plt.scatter(clean_city_data[\"Latitude\"], clean_city_data[\"Max Temperature\"])\n",
    "plt.title(f'City Latitude vs. Max Temperature {converted_date}')\n",
    "plt.xlabel(\"Latitude\")\n",
    "plt.ylabel(\"Max Temperature (F)\")\n",
    "plt.grid()\n",
    "plt.savefig(\"../output_data/MaxTemp.png\")"
   ]
  },
  {
   "cell_type": "markdown",
   "metadata": {},
   "source": [
    "Reviewing the data set provided, we can see cluster trends relative to maximum tempature that is impacted by a city's geographical location either further or nearer to the equator. Cities that settle closer to the equator most often experience trends of higher tempatures. What is most interesting is the standard of \"high tempatures\" really spread across a diversified set. The sharp decline is also compelling to review; rather than a mediated slope, the change is rather sharp. It makes me wonder about the stark contrast and how historical weather data from the past may compare - is it as intense a drop as the location changes? Has environmental changes created more regular trends of high tempatures in these areas? For now - the temps continue to rise!"
   ]
  },
  {
   "cell_type": "markdown",
   "metadata": {},
   "source": [
    "## Latitude vs. Humidity Plot"
   ]
  },
  {
   "cell_type": "code",
   "execution_count": 109,
   "metadata": {},
   "outputs": [
    {
     "data": {
      "image/png": "[encoded data removed]",
      "text/plain": [
       "<Figure size 432x288 with 1 Axes>"
      ]
     },
     "metadata": {
      "needs_background": "light"
     },
     "output_type": "display_data"
    }
   ],
   "source": [
    "# create scatter plot\n",
    "plt.scatter(clean_city_data[\"Latitude\"], clean_city_data[\"Humidity\"])\n",
    "plt.title(f'City Latitude vs. Humidity {converted_date}')\n",
    "plt.xlabel(\"Latitude\")\n",
    "plt.ylabel(\"Humidity (%)\")\n",
    "plt.grid()\n",
    "plt.savefig(\"../output_data/Humidity.png\")"
   ]
  },
  {
   "cell_type": "markdown",
   "metadata": {},
   "source": [
    "Further investigating the data set, we can also see that humidity is interestingly impacted as the georgraphical locations change. When looking into the visual we see that both areas near and far from the equators are experiencing a fair amount of humidity. This is concerning, as colder climates are expected to emmit -less- humidity. Levels of 100% humidity can be extremely dangerous for human inhalation. It also shows us that these areas are also holding onto warmer weather, which in turn relates to the commanality of high humidity rates. Moving forward important questions to have would be again reviewing furhter histrorical data to see the changes through past to now. Reviewing specific variables in these chosen cities to see what else could be raising the humidity levels."
   ]
  },
  {
   "cell_type": "markdown",
   "metadata": {},
   "source": [
    "## Latitude vs. Cloudiness Plot"
   ]
  },
  {
   "cell_type": "code",
   "execution_count": 110,
   "metadata": {},
   "outputs": [
    {
     "data": {
      "image/png": "[encoded data removed]",
      "text/plain": [
       "<Figure size 432x288 with 1 Axes>"
      ]
     },
     "metadata": {
      "needs_background": "light"
     },
     "output_type": "display_data"
    }
   ],
   "source": [
    "# create scatter plot\n",
    "plt.scatter(clean_city_data[\"Latitude\"], clean_city_data[\"Cloudiness\"])\n",
    "plt.title(f'City Latitude vs. Cloudiness {converted_date}')\n",
    "plt.xlabel(\"Latitude\")\n",
    "plt.ylabel(\"Cloudiness (%)\")\n",
    "plt.grid()\n",
    "plt.savefig(\"../output_data/Cloudiness.png\")"
   ]
  },
  {
   "cell_type": "markdown",
   "metadata": {},
   "source": [
    "It is not a serious question of science weather or not most all areas experience some sort of \"cloudiness\". This is because most all places will experience some sort of storm, or passing by of clouds in general. When reviewing the data on a graph, you can see that this idea is supported as the cities are spread across the grid lines. What else can be see is that areas closer towards the equator do see \"cloudiness\" less often then cities further. This also makes sense as the equator faces closer to the sun's rays. Some further review would be the cities that experience extremely high frequency levels of \"cloudiness\" both extremely closer to the eqautor and not; as well as those that experience absolutely no cloudiness. "
   ]
  },
  {
   "cell_type": "markdown",
   "metadata": {},
   "source": [
    "## Latitude vs. Wind Speed Plot"
   ]
  },
  {
   "cell_type": "code",
   "execution_count": 111,
   "metadata": {},
   "outputs": [
    {
     "data": {
      "image/png": "[encoded data removed]",
      "text/plain": [
       "<Figure size 432x288 with 1 Axes>"
      ]
     },
     "metadata": {
      "needs_background": "light"
     },
     "output_type": "display_data"
    }
   ],
   "source": [
    "# create scatter plot\n",
    "plt.scatter(df[\"Latitude\"], df[\"Wind Speed\"])\n",
    "plt.title(f'City Latitude vs. Wind Speed {converted_date}')\n",
    "plt.xlabel(\"Latitude\")\n",
    "plt.ylabel(\"Wind Speed (mph)\")\n",
    "plt.grid()\n",
    "plt.savefig(\"../output_data/WindSpeed.png\")"
   ]
  },
  {
   "cell_type": "markdown",
   "metadata": {},
   "source": [
    "When plotting this data set, it sets an interesting obvious visual - latitude doesn't impact wind speed; but shouldn't it? Even in a randomized sample, most cities experience little to no winds. That seems odd. So I researched the impact of wind speed on environment and found this article here (https://www.scientificamerican.com/article/climate-change-may-mean-slower-winds/)\n",
    "\n",
    "In summary they also have seen changes or drops in wind speeds. Wind is most often utilized as a resource for natural energy, so the idea that we are seeing less of it can be troubling. Wind speeds usually need to be 25mph+ to power a wind turbine. When reading the article it was said that impacts such as \"fast growing urban areas\" can effect wind patterns. Based on the other measures we have reviewed thus far, we can see that human presence is in turn vastly effecting different parts of our natural environment. This hit relays to our weather as we continue to see dangerous changes to aspects of tempatures, cloudiness, and humidity. "
   ]
  },
  {
   "cell_type": "markdown",
   "metadata": {},
   "source": [
    "## Linear Regression"
   ]
  },
  {
   "cell_type": "code",
   "execution_count": 117,
   "metadata": {},
   "outputs": [],
   "source": [
    "#gather data based on latitude for graphs\n",
    "northernhem = clean_city_data.Latitude >= 0\n",
    "sothernhem = clean_city_data.Latitude < 0\n",
    "\n",
    "#separate the original data frame by region\n",
    "north_weather = clean_city_data[northernhem]\n",
    "south_weather = clean_city_data[sothernhem]\n",
    "\n",
    "#reset index\n",
    "north_weather = north_weather.reset_index(drop=True)\n",
    "south_weather = south_weather.reset_index(drop=True)"
   ]
  },
  {
   "cell_type": "code",
   "execution_count": 119,
   "metadata": {},
   "outputs": [
    {
     "data": {
      "text/html": [
       "<div>\n",
       "<style scoped>\n",
       "    .dataframe tbody tr th:only-of-type {\n",
       "        vertical-align: middle;\n",
       "    }\n",
       "\n",
       "    .dataframe tbody tr th {\n",
       "        vertical-align: top;\n",
       "    }\n",
       "\n",
       "    .dataframe thead th {\n",
       "        text-align: right;\n",
       "    }\n",
       "</style>\n",
       "<table border=\"1\" class=\"dataframe\">\n",
       "  <thead>\n",
       "    <tr style=\"text-align: right;\">\n",
       "      <th></th>\n",
       "      <th>City</th>\n",
       "      <th>Latitude</th>\n",
       "      <th>Longitude</th>\n",
       "      <th>Max Temperature</th>\n",
       "      <th>Humidity</th>\n",
       "      <th>Cloudiness</th>\n",
       "      <th>Wind Speed</th>\n",
       "      <th>Country</th>\n",
       "      <th>Date</th>\n",
       "    </tr>\n",
       "  </thead>\n",
       "  <tbody>\n",
       "    <tr>\n",
       "      <th>0</th>\n",
       "      <td>Hermanus</td>\n",
       "      <td>-34.4187</td>\n",
       "      <td>19.2345</td>\n",
       "      <td>70.00</td>\n",
       "      <td>79</td>\n",
       "      <td>6</td>\n",
       "      <td>4.00</td>\n",
       "      <td>ZA</td>\n",
       "      <td>02/10/21</td>\n",
       "    </tr>\n",
       "    <tr>\n",
       "      <th>1</th>\n",
       "      <td>Kavieng</td>\n",
       "      <td>-2.5744</td>\n",
       "      <td>150.7967</td>\n",
       "      <td>81.45</td>\n",
       "      <td>78</td>\n",
       "      <td>96</td>\n",
       "      <td>7.58</td>\n",
       "      <td>PG</td>\n",
       "      <td>02/10/21</td>\n",
       "    </tr>\n",
       "    <tr>\n",
       "      <th>2</th>\n",
       "      <td>Bluff</td>\n",
       "      <td>-46.6000</td>\n",
       "      <td>168.3333</td>\n",
       "      <td>53.38</td>\n",
       "      <td>90</td>\n",
       "      <td>100</td>\n",
       "      <td>34.58</td>\n",
       "      <td>NZ</td>\n",
       "      <td>02/10/21</td>\n",
       "    </tr>\n",
       "    <tr>\n",
       "      <th>3</th>\n",
       "      <td>Caiapônia</td>\n",
       "      <td>-16.9567</td>\n",
       "      <td>-51.8103</td>\n",
       "      <td>80.42</td>\n",
       "      <td>65</td>\n",
       "      <td>100</td>\n",
       "      <td>6.15</td>\n",
       "      <td>BR</td>\n",
       "      <td>02/10/21</td>\n",
       "    </tr>\n",
       "    <tr>\n",
       "      <th>4</th>\n",
       "      <td>Ushuaia</td>\n",
       "      <td>-54.8000</td>\n",
       "      <td>-68.3000</td>\n",
       "      <td>80.60</td>\n",
       "      <td>29</td>\n",
       "      <td>0</td>\n",
       "      <td>16.11</td>\n",
       "      <td>AR</td>\n",
       "      <td>02/10/21</td>\n",
       "    </tr>\n",
       "  </tbody>\n",
       "</table>\n",
       "</div>"
      ],
      "text/plain": [
       "        City  Latitude  Longitude  Max Temperature  Humidity  Cloudiness  \\\n",
       "0   Hermanus  -34.4187    19.2345            70.00        79           6   \n",
       "1    Kavieng   -2.5744   150.7967            81.45        78          96   \n",
       "2      Bluff  -46.6000   168.3333            53.38        90         100   \n",
       "3  Caiapônia  -16.9567   -51.8103            80.42        65         100   \n",
       "4    Ushuaia  -54.8000   -68.3000            80.60        29           0   \n",
       "\n",
       "   Wind Speed Country      Date  \n",
       "0        4.00      ZA  02/10/21  \n",
       "1        7.58      PG  02/10/21  \n",
       "2       34.58      NZ  02/10/21  \n",
       "3        6.15      BR  02/10/21  \n",
       "4       16.11      AR  02/10/21  "
      ]
     },
     "execution_count": 119,
     "metadata": {},
     "output_type": "execute_result"
    }
   ],
   "source": [
    "#view the data\n",
    "north_weather.head()\n",
    "south_weather.head()"
   ]
  },
  {
   "cell_type": "code",
   "execution_count": 125,
   "metadata": {},
   "outputs": [],
   "source": [
    "#store variables for graphing\n",
    "\n",
    "# x axis for noth and souht\n",
    "nx_lat = north_weather[\"Latitude\"]\n",
    "sx_lat = south_weather[\"Latitude\"]\n",
    "\n",
    "# y axis for temp\n",
    "ny_temp = north_weather[\"Max Temperature\"]\n",
    "sy_temp = south_weather[\"Max Temperature\"]\n",
    "\n",
    "# y axis for humidity\n",
    "ny_humidity = north_weather[\"Humidity\"]\n",
    "sy_humidity = south_weather[\"Humidity\"]\n",
    "\n",
    "# y axis for cloudiness\n",
    "ny_clouds = north_weather[\"Cloudiness\"]\n",
    "sy_clouds = south_weather[\"Cloudiness\"]\n",
    "\n",
    "# y axis for wind speed\n",
    "ny_wind = north_weather[\"Wind Speed\"]\n",
    "sy_wind = south_weather[\"Wind Speed\"]"
   ]
  },
  {
   "cell_type": "markdown",
   "metadata": {},
   "source": [
    "####  Northern Hemisphere - Max Temp vs. Latitude Linear Regression"
   ]
  },
  {
   "cell_type": "code",
   "execution_count": 131,
   "metadata": {},
   "outputs": [
    {
     "name": "stdout",
     "output_type": "stream",
     "text": [
      "The r-squared is: -0.8852814129522222\n"
     ]
    },
    {
     "data": {
      "image/png": "[encoded data removed]",
      "text/plain": [
       "<Figure size 432x288 with 1 Axes>"
      ]
     },
     "metadata": {
      "needs_background": "light"
     },
     "output_type": "display_data"
    }
   ],
   "source": [
    "#plot the graph based on variable assigned values\n",
    "(slope, intercept, rvalue, pvalue, stderr) = linregress(nx_lat, ny_temp)\n",
    "regress_values = nx_values * slope + intercept\n",
    "line_eq = \"y = \" + str(round(slope,2)) + \"x + \" + str(round(intercept,2))\n",
    "plt.scatter(nx_lat, ny_temp)\n",
    "plt.plot(nx_lat,regress_values,\"r-\")\n",
    "plt.annotate(line_eq,(6,10),fontsize=15,color=\"red\")\n",
    "plt.title(\"Cities from Northen Hemisphere vs. Max Temperature\")\n",
    "plt.xlabel(\"Latitude\")\n",
    "plt.ylabel(\"Max Temperature (F)\")\n",
    "plt.grid()\n",
    "print(f\"The r-squared is: {rvalue}\")\n",
    "\n",
    "# save graph\n",
    "plt.savefig(\"../output_data/NorthLatTemp.png\")"
   ]
  },
  {
   "cell_type": "markdown",
   "metadata": {},
   "source": [
    "As stated in the initial scatter plot we can see that tempatures are often higher as we travel closer towards the equator. Our regression line can also correlate this theory as most of our data lies around the line. One thing to note is that at the beginning of our latitude (0) and as we progress, there is a cluster of data points that resides usually high above the line. This continues as latitude increases, with a sudden drop below the regression towards the end. The unusually high tempatures and then the sudden drop again is a questionable feature of the data as further empowered by the level of r-squared. What is interesting as well is the closeness in visual comparison to our overall cities graph even though this is primarily the North."
   ]
  },
  {
   "cell_type": "markdown",
   "metadata": {},
   "source": [
    "####  Southern Hemisphere - Max Temp vs. Latitude Linear Regression"
   ]
  },
  {
   "cell_type": "code",
   "execution_count": 132,
   "metadata": {},
   "outputs": [
    {
     "name": "stdout",
     "output_type": "stream",
     "text": [
      "The r-squared is: 0.5807451400226924\n"
     ]
    },
    {
     "data": {
      "image/png": "[encoded data removed]",
      "text/plain": [
       "<Figure size 432x288 with 1 Axes>"
      ]
     },
     "metadata": {
      "needs_background": "light"
     },
     "output_type": "display_data"
    }
   ],
   "source": [
    "# graph the data\n",
    "(slope, intercept, rvalue, pvalue, stderr) = linregress(sx_lat, sy_temp)\n",
    "regress_values = sx_lat * slope + intercept\n",
    "line_eq = \"y = \" + str(round(slope,2)) + \"x + \" + str(round(intercept,2))\n",
    "plt.scatter(sx_lat, sy_temp)\n",
    "plt.plot(sx_lat,regress_values,\"r-\")\n",
    "plt.annotate(line_eq,(-30,50),fontsize=15,color=\"red\")\n",
    "plt.title(\"Cities from Southern Hemisphere vs. Max Temperature\")\n",
    "plt.xlabel(\"Latitude\")\n",
    "plt.ylabel(\"Max Temperature (F)\")\n",
    "plt.grid()\n",
    "print(f\"The r-squared is: {rvalue}\")\n",
    "\n",
    "# save graph\n",
    "plt.savefig(\"../output_data/SouthLatTemp.png\")"
   ]
  },
  {
   "cell_type": "markdown",
   "metadata": {},
   "source": [
    "Extremely different then the Northern Hemisphere, we see that our plotted data is far less clustered around our regression line. Some important differences to note is that while our latitude progressively decreases, our tempatures rarely fall into a level of \"cold\" or freezing - they consistenly are above about 50 degrees. Our r-squared variance is also higher. "
   ]
  },
  {
   "cell_type": "markdown",
   "metadata": {},
   "source": [
    "####  Northern Hemisphere - Humidity (%) vs. Latitude Linear Regression"
   ]
  },
  {
   "cell_type": "code",
   "execution_count": 142,
   "metadata": {},
   "outputs": [
    {
     "name": "stdout",
     "output_type": "stream",
     "text": [
      "The r-squared is: 0.35536304660299883\n"
     ]
    },
    {
     "data": {
      "image/png": "[encoded data removed]",
      "text/plain": [
       "<Figure size 432x288 with 1 Axes>"
      ]
     },
     "metadata": {
      "needs_background": "light"
     },
     "output_type": "display_data"
    }
   ],
   "source": [
    "# graph the data\n",
    "(slope, intercept, rvalue, pvalue, stderr) = linregress(nx_lat, ny_humidity)\n",
    "regress_values = nx_lat * slope + intercept\n",
    "line_eq = \"y = \" + str(round(slope,2)) + \"x + \" + str(round(intercept,2))\n",
    "plt.scatter(nx_lat, ny_humidity)\n",
    "plt.plot(nx_lat,regress_values,\"r-\")\n",
    "plt.annotate(line_eq,(45,10),fontsize=15,color=\"red\")\n",
    "plt.title(\"Cities from Northern Hemisphere vs. Humidity\")\n",
    "plt.xlabel(\"Latitude\")\n",
    "plt.ylabel(\"Humidity (%)\")\n",
    "plt.grid()\n",
    "print(f\"The r-squared is: {rvalue}\")\n",
    "\n",
    "#save graph\n",
    "plt.savefig(\"../output_data/NorthLatHum.png\")\n"
   ]
  },
  {
   "cell_type": "markdown",
   "metadata": {},
   "source": [
    "When reviewing the line of regression we can see that the Northern hemisphere does not fit as soundly. We can see the North deals often with high levels of humidity, but there are still a fair share of data points that sit below the regression. "
   ]
  },
  {
   "cell_type": "markdown",
   "metadata": {},
   "source": [
    "####  Southern Hemisphere - Humidity (%) vs. Latitude Linear Regression"
   ]
  },
  {
   "cell_type": "code",
   "execution_count": 143,
   "metadata": {},
   "outputs": [
    {
     "name": "stdout",
     "output_type": "stream",
     "text": [
      "The r-squared is: 0.19586513970054403\n"
     ]
    },
    {
     "data": {
      "image/png": "[encoded data removed]",
      "text/plain": [
       "<Figure size 432x288 with 1 Axes>"
      ]
     },
     "metadata": {
      "needs_background": "light"
     },
     "output_type": "display_data"
    }
   ],
   "source": [
    "# graph the data\n",
    "(slope, intercept, rvalue, pvalue, stderr) = linregress(sx_lat, sy_humidity)\n",
    "regress_values = sx_lat * slope + intercept\n",
    "line_eq = \"y = \" + str(round(slope,2)) + \"x + \" + str(round(intercept,2))\n",
    "plt.scatter(sx_lat, sy_humidity)\n",
    "plt.plot(sx_lat,regress_values,\"r-\")\n",
    "plt.annotate(line_eq,(-50,55),fontsize=15,color=\"red\")\n",
    "plt.title(\"Cities from Southern Hemisphere vs. Humidity\")\n",
    "plt.xlabel(\"Latitude\")\n",
    "plt.ylabel(\"Humidity (%)\")\n",
    "plt.grid()\n",
    "print(f\"The r-squared is: {rvalue}\")\n",
    "\n",
    "# save graph\n",
    "plt.savefig(\"../output_data/SouthLatHum.png\")\n"
   ]
  },
  {
   "cell_type": "markdown",
   "metadata": {},
   "source": [
    "While alone this graph and regression line don't mean very much, if we look at it with all of the other collected data we can see that the humidity levels are rather correlational both between the North and South. As both divisions experience higher tempatures, we also see that they both experience moderate to high levels of humidity. While latitude itself may not be a direct impact, if we review both humidity and tempatures together we can see that there is an interesting deduction to be made as what were normally \"cooler\" city locations are now becoming more like their hotter geographical counterparts."
   ]
  },
  {
   "cell_type": "markdown",
   "metadata": {},
   "source": [
    "####  Northern Hemisphere - Cloudiness (%) vs. Latitude Linear Regression"
   ]
  },
  {
   "cell_type": "code",
   "execution_count": 144,
   "metadata": {},
   "outputs": [
    {
     "name": "stdout",
     "output_type": "stream",
     "text": [
      "The r-squared is: 0.08746891049368909\n"
     ]
    },
    {
     "data": {
      "image/png": "[encoded data removed]",
      "text/plain": [
       "<Figure size 432x288 with 1 Axes>"
      ]
     },
     "metadata": {
      "needs_background": "light"
     },
     "output_type": "display_data"
    }
   ],
   "source": [
    "# graph the data\n",
    "(slope, intercept, rvalue, pvalue, stderr) = linregress(nx_lat, ny_clouds)\n",
    "regress_values = nx_lat * slope + intercept\n",
    "line_eq = \"y = \" + str(round(slope,2)) + \"x + \" + str(round(intercept,2))\n",
    "plt.scatter(nx_lat, ny_clouds)\n",
    "plt.plot(nx_lat,regress_values,\"r-\")\n",
    "plt.annotate(line_eq,(45,55),fontsize=15,color=\"red\")\n",
    "plt.title(\"Cities from Northern Hemisphere vs. Cloudiness\")\n",
    "plt.xlabel(\"Latitude\")\n",
    "plt.ylabel(\"Cloudiness (%)\")\n",
    "plt.grid()\n",
    "print(f\"The r-squared is: {rvalue}\")\n",
    "\n",
    "# show and save pic\n",
    "plt.savefig(\"../output_data/NorthLatCloud.png\")\n"
   ]
  },
  {
   "cell_type": "markdown",
   "metadata": {},
   "source": [
    "Looking at the visualization of this data set, we see that the North either often experiences days of extreme cloudiness or either no cloudiness, with a moderate set of data variances in between. While the data does not fit to our model very well, it does pose the question of why Northern cities are dealing with such wide margins of \"clouds\" - would including more data points also reflect this visual?"
   ]
  },
  {
   "cell_type": "markdown",
   "metadata": {},
   "source": [
    "####  Southern Hemisphere - Cloudiness (%) vs. Latitude Linear Regression"
   ]
  },
  {
   "cell_type": "code",
   "execution_count": 145,
   "metadata": {},
   "outputs": [
    {
     "name": "stdout",
     "output_type": "stream",
     "text": [
      "The r-squared is: 0.3766923153136125\n"
     ]
    },
    {
     "data": {
      "image/png": "[encoded data removed]",
      "text/plain": [
       "<Figure size 432x288 with 1 Axes>"
      ]
     },
     "metadata": {
      "needs_background": "light"
     },
     "output_type": "display_data"
    }
   ],
   "source": [
    "# graph the data\n",
    "(slope, intercept, rvalue, pvalue, stderr) = linregress(sx_lat, sy_clouds)\n",
    "regress_values = sx_lat * slope + intercept\n",
    "line_eq = \"y = \" + str(round(slope,2)) + \"x + \" + str(round(intercept,2))\n",
    "plt.scatter(sx_lat, sy_clouds)\n",
    "plt.plot(sx_lat,regress_values,\"r-\")\n",
    "plt.annotate(line_eq,(45,55),fontsize=15,color=\"red\")\n",
    "plt.title(\"Cities from Southern Hemisphere vs. Cloudiness\")\n",
    "plt.xlabel(\"Latitude\")\n",
    "plt.ylabel(\"Cloudiness (%)\")\n",
    "plt.grid()\n",
    "print(f\"The r-squared is: {rvalue}\")\n",
    "\n",
    "# show and save pic\n",
    "plt.savefig(\"../output_data/SouthLatCloud.png\")\n",
    "\n"
   ]
  },
  {
   "cell_type": "markdown",
   "metadata": {},
   "source": [
    "Again another set of data that does not kindly fit to our regression model. Once difference to see is that our Southern Hemisphere looks as if they have extremely cloudy days more often than not. While again there seems to be no direct relationship between the latitude of the South and their levels of cloudiness, overall their data is more wide spread across the y-axis."
   ]
  },
  {
   "cell_type": "markdown",
   "metadata": {},
   "source": [
    "####  Northern Hemisphere - Wind Speed (mph) vs. Latitude Linear Regression"
   ]
  },
  {
   "cell_type": "code",
   "execution_count": 147,
   "metadata": {},
   "outputs": [
    {
     "name": "stdout",
     "output_type": "stream",
     "text": [
      "The r-squared is: 0.05970189936767084\n"
     ]
    },
    {
     "data": {
      "image/png": "[encoded data removed]",
      "text/plain": [
       "<Figure size 432x288 with 1 Axes>"
      ]
     },
     "metadata": {
      "needs_background": "light"
     },
     "output_type": "display_data"
    }
   ],
   "source": [
    "# graph the data\n",
    "(slope, intercept, rvalue, pvalue, stderr) = linregress(nx_lat, ny_wind)\n",
    "regress_values = nx_lat * slope + intercept\n",
    "line_eq = \"y = \" + str(round(slope,2)) + \"x + \" + str(round(intercept,2))\n",
    "plt.scatter(nx_lat, ny_wind)\n",
    "plt.plot(nx_lat,regress_values,\"r-\")\n",
    "plt.annotate(line_eq,(30,25),fontsize=15,color=\"red\")\n",
    "plt.title(\"Cities from Northern Hemisphere vs. Wind Speed\")\n",
    "plt.xlabel(\"Latitude\")\n",
    "plt.ylabel(\"Wind Speed (mph)\")\n",
    "plt.grid()\n",
    "print(f\"The r-squared is: {rvalue}\")\n",
    "\n",
    "# save graph\n",
    "plt.savefig(\"../output_data/NorthLatWind.png\")\n"
   ]
  },
  {
   "cell_type": "markdown",
   "metadata": {},
   "source": [
    "Based on our r-squared, we find very little variance with our data set when looking at Northen cities and their wind speed. One other trend to note is how little wind speed if at all these cities receive. Going back to our first look at latitude and wind speed and the growing concern for the decrease this could vastly impact this region. "
   ]
  },
  {
   "cell_type": "markdown",
   "metadata": {},
   "source": [
    "####  Southern Hemisphere - Wind Speed (mph) vs. Latitude Linear Regression"
   ]
  },
  {
   "cell_type": "code",
   "execution_count": 148,
   "metadata": {},
   "outputs": [
    {
     "name": "stdout",
     "output_type": "stream",
     "text": [
      "The r-squared is: -0.1964473045599972\n"
     ]
    },
    {
     "data": {
      "image/png": "[encoded data removed]",
      "text/plain": [
       "<Figure size 432x288 with 1 Axes>"
      ]
     },
     "metadata": {
      "needs_background": "light"
     },
     "output_type": "display_data"
    }
   ],
   "source": [
    "# graph the data\n",
    "(slope, intercept, rvalue, pvalue, stderr) = linregress(sx_lat, sy_wind)\n",
    "regress_values = sx_lat * slope + intercept\n",
    "line_eq = \"y = \" + str(round(slope,2)) + \"x + \" + str(round(intercept,2))\n",
    "plt.scatter(sx_lat, sy_wind)\n",
    "plt.plot(sx_lat,regress_values,\"r-\")\n",
    "plt.annotate(line_eq,(30,25),fontsize=15,color=\"red\")\n",
    "plt.title(\"Cities from Southern Hemisphere vs. Wind Speed\")\n",
    "plt.xlabel(\"Latitude\")\n",
    "plt.ylabel(\"Wind Speed (mph)\")\n",
    "plt.grid()\n",
    "print(f\"The r-squared is: {rvalue}\")\n",
    "\n",
    "# save graph\n",
    "plt.savefig(\"../output_data/SouthLatWind.png\")"
   ]
  },
  {
   "cell_type": "markdown",
   "metadata": {},
   "source": [
    "While similar to the Northern Hemisphere, with increasing low wind speeds, there is some hope of variance in the data. This could mean that while the Wind MPH may be decreasing, regionally it looks as though it only is steadily impacting the North vs. the South. When reviewing impacts to the decrease it may be important to note the other variables (environment, urban vs. suburban, etc.) in the differing hemispheres"
   ]
  }
 ],
 "metadata": {
  "anaconda-cloud": {},
  "kernel_info": {
   "name": "python3"
  },
  "kernelspec": {
   "display_name": "Python 3",
   "language": "python",
   "name": "python3"
  },
  "language_info": {
   "codemirror_mode": {
    "name": "ipython",
    "version": 3
   },
   "file_extension": ".py",
   "mimetype": "text/x-python",
   "name": "python",
   "nbconvert_exporter": "python",
   "pygments_lexer": "ipython3",
   "version": "3.8.3"
  },
  "latex_envs": {
   "LaTeX_envs_menu_present": true,
   "autoclose": false,
   "autocomplete": true,
   "bibliofile": "biblio.bib",
   "cite_by": "apalike",
   "current_citInitial": 1,
   "eqLabelWithNumbers": true,
   "eqNumInitial": 1,
   "hotkeys": {
    "equation": "Ctrl-E",
    "itemize": "Ctrl-I"
   },
   "labels_anchors": false,
   "latex_user_defs": false,
   "report_style_numbering": false,
   "user_envs_cfg": false
  },
  "nteract": {
   "version": "0.12.3"
  }
 },
 "nbformat": 4,
 "nbformat_minor": 2
}
